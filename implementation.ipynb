{
 "cells": [
  {
   "cell_type": "markdown",
   "metadata": {},
   "source": [
    "# Implementation of a Stark proof on a Lucas sequence computation\n",
    "\n",
    "#### Amine Abdeljaoued - CSE303 under the supervision of Sarah Bordage"
   ]
  },
  {
   "cell_type": "code",
   "execution_count": 58,
   "metadata": {},
   "outputs": [],
   "source": [
    "import random\n",
    "from hashlib import sha256\n",
    "from Merkle import *"
   ]
  },
  {
   "cell_type": "markdown",
   "metadata": {},
   "source": [
    "We will define our Lucas sequence $U(P,Q)$ as follow:<br> \n",
    "$$ \\begin{equation}\n",
    "    \\begin{cases}\n",
    "        U_0(P,Q)=0\\\\\n",
    "        U_1(P,Q)=1\\\\\n",
    "        U_n(P,Q)=PU_{n-1}(P,Q) - QU_{n-2}(P,Q) \\ \\  \\forall n \\ge 2\n",
    "    \\end{cases}\\,.\n",
    "\\end{equation}$$"
   ]
  },
  {
   "cell_type": "markdown",
   "metadata": {},
   "source": [
    "We will work with the prime number $3221225473 = 3 \\cdot 2^{30} + 1$ and we denote  $\\mathbb{F}=\\mathbb{F}_{3221225473}$ the finite field of size $p$."
   ]
  },
  {
   "cell_type": "markdown",
   "metadata": {},
   "source": [
    "We will produce a STARK proof attesting of the following statement: <br> **I know field elements P,Q $\\in \\mathbb{F}$ such that the 15th element of the sequence ($U_{14}$) with parameters P and Q is 409593865**"
   ]
  },
  {
   "cell_type": "markdown",
   "metadata": {},
   "source": [
    "The channel implemented in the following cell will receive the MerkleTree root from the prover in order to verify the latter's merkle proofs."
   ]
  },
  {
   "cell_type": "code",
   "execution_count": 59,
   "metadata": {},
   "outputs": [],
   "source": [
    "channel = []"
   ]
  },
  {
   "cell_type": "markdown",
   "metadata": {},
   "source": [
    "## Trace and Polynomial"
   ]
  },
  {
   "cell_type": "code",
   "execution_count": 60,
   "metadata": {},
   "outputs": [],
   "source": [
    "F = GF(3221225473)"
   ]
  },
  {
   "cell_type": "markdown",
   "metadata": {},
   "source": [
    "#### We create the trace"
   ]
  },
  {
   "cell_type": "markdown",
   "metadata": {},
   "source": [
    "The \"trace\" is the computational trace i.e the sequence elements up to the one we are interested in."
   ]
  },
  {
   "cell_type": "code",
   "execution_count": 61,
   "metadata": {},
   "outputs": [],
   "source": [
    "a = [0,1]\n",
    "P = 5\n",
    "Q = 2\n",
    "while len(a)<15:\n",
    "    a.append(P*a[-1] - Q*a[-2])"
   ]
  },
  {
   "cell_type": "markdown",
   "metadata": {},
   "source": [
    "#### We define our polynomial\n",
    "\n",
    "We start by defining its domain, and then use a Lagrange interpolation to get the polynomial with domain G and the trace a as its co-domain.\n",
    "We want a generator of a subgroup of $\\mathbb{F}^\\times$ of order 16 and we know it exists since 16 divides $3\\cdot 2^{30}$, the size of our group $\\mathbb{F}$.\n",
    "\n",
    "We use the following given on the STARK tutorial: *Hint: When $k$ divides $|\\mathbb{F}^\\times|$, $g^k$ generates a group of size $\\frac {|\\mathbb{F}^\\times|}{k}$, and the n-th power of some field element $x$ can be computed by calling `x ** n `.*"
   ]
  },
  {
   "cell_type": "code",
   "execution_count": 62,
   "metadata": {},
   "outputs": [],
   "source": [
    "g = F.multiplicative_generator() ** (3 * 2**26)\n",
    "\n",
    "G = [g**i for i in range(16)] #Domain of our polynomial"
   ]
  },
  {
   "cell_type": "code",
   "execution_count": 63,
   "metadata": {},
   "outputs": [],
   "source": [
    "R.<X> = PolynomialRing(F)"
   ]
  },
  {
   "cell_type": "code",
   "execution_count": 64,
   "metadata": {},
   "outputs": [],
   "source": [
    "points = [(G[i],a[i]) for i in range(15)]\n",
    "f=R.lagrange_polynomial(points)"
   ]
  },
  {
   "cell_type": "code",
   "execution_count": 65,
   "metadata": {},
   "outputs": [
    {
     "name": "stdout",
     "output_type": "stream",
     "text": [
      "Interpolating polynomial f(X) = 1591378048*X^14 + 1480639541*X^13 + 1293339165*X^12 + 2205269950*X^11 + 807315743*X^10 + 2715312626*X^9 + 1979814329*X^8 + 1074125415*X^7 + 261527103*X^6 + 1438334297*X^5 + 671075275*X^4 + 3065900240*X^3 + 1361401121*X^2 + 2515909827*X + 87235631\n"
     ]
    }
   ],
   "source": [
    "print(\"Interpolating polynomial f(X) =\", f)"
   ]
  },
  {
   "cell_type": "markdown",
   "metadata": {},
   "source": [
    "#### Evaluation of our polynomial on a larger coset\n",
    "\n",
    "We will choose a domain G1 16 times larges than our initial one, therefore of size 256. We then create a coset of G1."
   ]
  },
  {
   "cell_type": "code",
   "execution_count": 66,
   "metadata": {},
   "outputs": [],
   "source": [
    "g1 = F.multiplicative_generator()\n",
    "g2 = g1**(3 * 2**22)\n",
    "\n",
    "G1 = [g2**i for i in range(256)]\n",
    "\n",
    "eval_domain = [g1 * h for h in G1]"
   ]
  },
  {
   "cell_type": "markdown",
   "metadata": {},
   "source": [
    "## Constraints"
   ]
  },
  {
   "cell_type": "markdown",
   "metadata": {},
   "source": [
    "#### We firstly define our constraints\n",
    "\n",
    "On a, our constraints are:\n",
    "\n",
    "1) a[0]=0\n",
    "\n",
    "2) a[1]=1\n",
    "\n",
    "3) a[14] = 409593865\n",
    "\n",
    "4) $\\forall i  < 13$, $a[i+2]= P \\cdot a[i+1] - Q\\cdot a[i]$\n",
    "\n",
    "Translated for our polynomial f, it gives:\n",
    "\n",
    "1) $f(x)$ evaluates to 0 for $x=g^0=1$\n",
    "\n",
    "2) $f(x) - 1 $ evaluates to 0 for $x=g^1$\n",
    "\n",
    "3) $f(x) - 409593865$ evaluates to 0 for $x=g^{14}$\n",
    "\n",
    "4) $f(g^2 \\cdot x) - P\\cdot f(g \\cdot x) + Q\\cdot f(x)$ evaluates to 0 for $x \\in G \\backslash \\{g^{15},g^{14},g^{13}\\}$\n",
    "\n",
    "Written in terms of rational functions, this gives:\n",
    "\n",
    "1) $p_1(x)=\\frac{f(x)}{x-1}$ is a polynomial\n",
    "\n",
    "2) $p_2(x)=\\frac{f(x)-1}{x-g}$ is a polynomial\n",
    "\n",
    "3) $p_3(x)=\\frac{f(x)-409593865}{x-g^{14}}$ is a polynomial\n",
    "\n",
    "4) $$p_4(x)=\\frac{f(g^2 \\cdot x) - P\\cdot f(g \\cdot x) + Q\\cdot f(x)}{\\prod_{i=0}^{12} (x-g^i)}= \\frac{f(g^2 \\cdot x) - P\\cdot f(g \\cdot x) + Q\\cdot f(x)}{\\frac{x^{16}-1}{(x-g^{15})(x-g^{14})(x-g^{13})}}$$ is a polynomial"
   ]
  },
  {
   "cell_type": "markdown",
   "metadata": {},
   "source": [
    "#### We will now define the constraints using sagemath univariate polynomial ring's operations"
   ]
  },
  {
   "cell_type": "code",
   "execution_count": 67,
   "metadata": {},
   "outputs": [],
   "source": [
    "p1 = f/ (X-1)\n",
    "p2 = (f-1)/ (X-g)\n",
    "p3 = (f - 409593865)/ (X - g**14)\n",
    "p4 = ( f(g**2 * X) - P*f(g*X) + Q*f(X))"
   ]
  },
  {
   "cell_type": "code",
   "execution_count": 68,
   "metadata": {},
   "outputs": [
    {
     "name": "stdout",
     "output_type": "stream",
     "text": [
      "p1(X) = 1591378048*X^13 + 3072017589*X^12 + 1144131281*X^11 + 128175758*X^10 + 935491501*X^9 + 429578654*X^8 + 2409392983*X^7 + 262292925*X^6 + 523820028*X^5 + 1962154325*X^4 + 2633229600*X^3 + 2477904367*X^2 + 618080015*X + 3133989842\n",
      "p2(X) = 1591378048*X^13 + 1494727035*X^12 + 357395372*X^11 + 1850590412*X^10 + 183130280*X^9 + 800191002*X^8 + 1117252255*X^7 + 1951935049*X^6 + 60573156*X^5 + 1568431439*X^4 + 537230794*X^3 + 816838766*X^2 + 2504659179*X + 1876245401\n",
      "p3(X) = 1591378048*X^13 + 720129134*X^12 + 1459058*X^11 + 2911415979*X^10 + 1751087406*X^9 + 2975797655*X^8 + 658235586*X^7 + 3190440437*X^6 + 971519052*X^5 + 2988093240*X^4 + 853232600*X^3 + 1926404082*X^2 + 2607091556*X + 2915649450\n",
      "p4(X) = 1772948010*X^14 + 2863677125*X^13 + 84962123*X^12 + 2167507865*X^11 + 2823498213*X^10 + 2425853534*X^9 + 2953612740*X^8 + 317852993*X^7 + 90808569*X^6 + 1900351788*X^5 + 357121872*X^4 + 735864615*X^3 + 1755196154*X^2 + 2473793972*X + 3046754211\n"
     ]
    }
   ],
   "source": [
    "print(\"p1(X) =\", p1)\n",
    "print(\"p2(X) =\", p2)\n",
    "print(\"p3(X) =\", p3)\n",
    "print(\"p4(X) =\", p4)"
   ]
  },
  {
   "cell_type": "markdown",
   "metadata": {},
   "source": [
    "#### We then construct the composition polynomial"
   ]
  },
  {
   "cell_type": "code",
   "execution_count": 69,
   "metadata": {},
   "outputs": [],
   "source": [
    "#The Verifier provides the random values\n",
    "a1 = random.randrange(0,3221225473,1)\n",
    "a2 = random.randrange(0,3221225473,1)\n",
    "a3 = random.randrange(0,3221225473,1)\n",
    "a4 = random.randrange(0,3221225473,1)"
   ]
  },
  {
   "cell_type": "code",
   "execution_count": 97,
   "metadata": {},
   "outputs": [],
   "source": [
    "p = a1 * p1 + a2 * p2 + a3 * p3 + a4 * p4"
   ]
  },
  {
   "cell_type": "markdown",
   "metadata": {},
   "source": [
    "Then we commit the root of the merkle tree of the evaluation of this composition polynomial"
   ]
  },
  {
   "cell_type": "code",
   "execution_count": 98,
   "metadata": {},
   "outputs": [],
   "source": [
    "tree = MerkleTree([p(x) for x in eval_domain])\n",
    "channel.append(tree.root)"
   ]
  },
  {
   "cell_type": "markdown",
   "metadata": {},
   "source": [
    "#### Check that this polynomial is close to a polynomial of low degree\n",
    "\n",
    "We need to prove that p is close to a polynomial of degree<16\n",
    "For that matter we will create p_interp, the polynomial resulting from the interpolation of 16 random points on eval_domain and their image. "
   ]
  },
  {
   "cell_type": "code",
   "execution_count": 99,
   "metadata": {},
   "outputs": [],
   "source": [
    "#The Verifier asks for the p(x)s, provided by the prover\n",
    "rand_points=random.choices(eval_domain,k=16)\n",
    "evals = [p(x) for x in rand_points]"
   ]
  },
  {
   "cell_type": "markdown",
   "metadata": {},
   "source": [
    "###### The Prover now needs to prove that each point of evals is correct by providing a merkle proof, further verified by the verifier."
   ]
  },
  {
   "cell_type": "code",
   "execution_count": 100,
   "metadata": {},
   "outputs": [],
   "source": [
    "def merkle_proof(tree, paths, point):\n",
    "    right_path = None\n",
    "    for path in paths:\n",
    "        if path[-1]==point:\n",
    "            right_path = path\n",
    "    if right_path == None:\n",
    "        return -1\n",
    "    \n",
    "    proof = []\n",
    "    path = []\n",
    "    z = tree.root\n",
    "    for i in range(1,len(right_path)):\n",
    "        if z.right.label==right_path[i]:\n",
    "            proof.append(z.left)\n",
    "            path.append(z.right)\n",
    "            z = z.right\n",
    "        \n",
    "        elif z.left.label==right_path[i] : \n",
    "            proof.append(z.right)\n",
    "            path.append(z.left)\n",
    "            z = z.left\n",
    "        \n",
    "        else:\n",
    "            if z==proof[-1].right:\n",
    "                path.append(proof[-1].left)\n",
    "            else:\n",
    "                path.append(proof[-1].right)\n",
    "            \n",
    "            proof.append(z)\n",
    "            \n",
    "        \n",
    "        \n",
    "    return path,proof"
   ]
  },
  {
   "cell_type": "markdown",
   "metadata": {},
   "source": [
    "##### The verifier can now verify that a point of evals is correct according the the previous root commit using the merkle proof emitted."
   ]
  },
  {
   "cell_type": "code",
   "execution_count": 101,
   "metadata": {},
   "outputs": [],
   "source": [
    "def verify_proof(root,right_path,proof):\n",
    "    '''Iteratively ssa the sum of element of right_path \n",
    "    and element of proof to see if it gives next element of\n",
    "    right_path until we get the root and compare with the root\n",
    "    sent previously by the prover.'''\n",
    "    #We need to work in reverse\n",
    "    n = len(proof)\n",
    "    for i in range(n-1,-1,-1):\n",
    "        hashed1 = sha256( (  str(proof[i].value) + str(right_path[i].value) ).encode()).hexdigest()\n",
    "        hashed2 = sha256( (  str(right_path[i].value) + str(proof[i].value) ).encode()).hexdigest()\n",
    "\n",
    "        if i==0:\n",
    "            if hashed1!=root.value and hashed2 != root.value:\n",
    "                print(\"Merkle proof not correct\")\n",
    "                return False\n",
    "        else:\n",
    "            if hashed1!=right_path[i-1].value and hashed2 != right_path[i-1].value:\n",
    "                print(\"Merkle proof not correct\")\n",
    "                return False\n",
    "    \n",
    "    return True\n",
    "    "
   ]
  },
  {
   "cell_type": "code",
   "execution_count": 102,
   "metadata": {},
   "outputs": [],
   "source": [
    "paths = tree.get_paths()\n",
    "\n",
    "for point in evals:\n",
    "    point = str(point)\n",
    "    right_path,proof= merkle_proof(tree,paths,point)\n",
    "    validity = verify_proof(tree.root,right_path,proof)\n",
    "    assert validity==True\n",
    "    "
   ]
  },
  {
   "cell_type": "markdown",
   "metadata": {},
   "source": [
    "The verifier has now checked the validity of these points and we can proceed to create p_interp. The following cell might fail with a ZeroDivisionError."
   ]
  },
  {
   "cell_type": "code",
   "execution_count": 103,
   "metadata": {},
   "outputs": [],
   "source": [
    "points = [(rand_points[i],evals[i]) for i in range(16)]\n",
    "p_interp = R.lagrange_polynomial(points)"
   ]
  },
  {
   "cell_type": "markdown",
   "metadata": {},
   "source": [
    "#### Now, we compare p_interp to p taking a random point. Having an equality on this random point implies wiht high probability that our composition polynomial was indeed a polynomial of low degree and consequently that the computation is correct."
   ]
  },
  {
   "cell_type": "markdown",
   "metadata": {},
   "source": [
    "For further details on why this is true for a mathematical point of view, see report."
   ]
  },
  {
   "cell_type": "code",
   "execution_count": 105,
   "metadata": {},
   "outputs": [
    {
     "name": "stdout",
     "output_type": "stream",
     "text": [
      "True\n"
     ]
    }
   ],
   "source": [
    "random_point = random.choice(eval_domain)\n",
    "print(p_interp(random_point)==p(random_point))"
   ]
  }
 ],
 "metadata": {
  "kernelspec": {
   "display_name": "SageMath 9.2",
   "language": "sage",
   "name": "sagemath"
  },
  "language_info": {
   "codemirror_mode": {
    "name": "ipython",
    "version": 3
   },
   "file_extension": ".py",
   "mimetype": "text/x-python",
   "name": "python",
   "nbconvert_exporter": "python",
   "pygments_lexer": "ipython3",
   "version": "3.7.8"
  }
 },
 "nbformat": 4,
 "nbformat_minor": 4
}
